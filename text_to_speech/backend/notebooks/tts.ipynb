{
 "cells": [
  {
   "cell_type": "code",
   "execution_count": 1,
   "id": "571fea5b",
   "metadata": {},
   "outputs": [
    {
     "name": "stdout",
     "output_type": "stream",
     "text": [
      "d:\\intern-ai-assignment\\text_to_speech\\backend\n"
     ]
    }
   ],
   "source": [
    "%cd .."
   ]
  },
  {
   "cell_type": "code",
   "execution_count": 2,
   "id": "250f7360",
   "metadata": {},
   "outputs": [],
   "source": [
    "import argparse\n",
    "import numpy as np\n",
    "from scipy.io.wavfile import write as write_wav\n",
    "\n",
    "from vietTTS import nat_normalize_text\n",
    "from vietTTS.hifigan.mel2wave import mel2wave\n",
    "from vietTTS.nat.text2mel import text2mel"
   ]
  },
  {
   "cell_type": "code",
   "execution_count": 3,
   "id": "354b5c3c",
   "metadata": {},
   "outputs": [],
   "source": [
    "def text_to_speech(text):\n",
    "    text = nat_normalize_text(text)\n",
    "    mel = text2mel(\n",
    "        text,\n",
    "        \"./assets/lexicon.txt\",\n",
    "        0.2,\n",
    "        \"./assets/acoustic_ckpt.pickle\",\n",
    "        \"./assets/duration_ckpt.pickle\",\n",
    "    )\n",
    "    wave = mel2wave(mel, \"./assets/config.json\", \"./assets/hk_hifi.pickle\")\n",
    "    return (wave * (2**15)).astype(np.int16)\n",
    "\n",
    "\n",
    "def text_to_wav(text, wav_path=\"output.wav\", batch_size=500):\n",
    "    text_batches = [text[i:i+batch_size] for i in range(0, len(text), batch_size)]\n",
    "    all_wave = np.array([], dtype=np.int16)\n",
    "\n",
    "    for batch in text_batches:\n",
    "        wave_int16 = text_to_speech(batch)\n",
    "        all_wave = np.concatenate((all_wave, wave_int16))\n",
    "    \n",
    "    write_wav(wav_path, 16000, all_wave)\n",
    "    print(f\"WAV file created: {wav_path}\")\n",
    "    return wav_path"
   ]
  },
  {
   "cell_type": "code",
   "execution_count": 4,
   "id": "b47cf06c",
   "metadata": {},
   "outputs": [
    {
     "name": "stdout",
     "output_type": "stream",
     "text": [
      "WAV file created: output.wav\n"
     ]
    },
    {
     "data": {
      "text/plain": [
       "'output.wav'"
      ]
     },
     "execution_count": 4,
     "metadata": {},
     "output_type": "execute_result"
    }
   ],
   "source": [
    "text_to_wav(\"xin chào\")"
   ]
  }
 ],
 "metadata": {
  "kernelspec": {
   "display_name": "tts",
   "language": "python",
   "name": "python3"
  },
  "language_info": {
   "codemirror_mode": {
    "name": "ipython",
    "version": 3
   },
   "file_extension": ".py",
   "mimetype": "text/x-python",
   "name": "python",
   "nbconvert_exporter": "python",
   "pygments_lexer": "ipython3",
   "version": "3.11.13"
  }
 },
 "nbformat": 4,
 "nbformat_minor": 5
}
