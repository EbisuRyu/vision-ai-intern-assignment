{
 "cells": [
  {
   "cell_type": "code",
   "execution_count": 1,
   "id": "850b5790",
   "metadata": {},
   "outputs": [
    {
     "name": "stderr",
     "output_type": "stream",
     "text": [
      "c:\\Users\\LONG\\anaconda3\\envs\\tts\\Lib\\site-packages\\tqdm\\auto.py:21: TqdmWarning: IProgress not found. Please update jupyter and ipywidgets. See https://ipywidgets.readthedocs.io/en/stable/user_install.html\n",
      "  from .autonotebook import tqdm as notebook_tqdm\n"
     ]
    }
   ],
   "source": [
    "from transformers import pipeline"
   ]
  },
  {
   "cell_type": "code",
   "execution_count": 2,
   "id": "1eebfb5a",
   "metadata": {},
   "outputs": [
    {
     "name": "stderr",
     "output_type": "stream",
     "text": [
      "Device set to use cpu\n"
     ]
    }
   ],
   "source": [
    "corrector = pipeline(\"text2text-generation\", model=\"bmd1905/vietnamese-correction-v2\")"
   ]
  },
  {
   "cell_type": "code",
   "execution_count": 3,
   "id": "75521e93",
   "metadata": {},
   "outputs": [
    {
     "name": "stderr",
     "output_type": "stream",
     "text": [
      "Both `max_new_tokens` (=256) and `max_length`(=512) seem to have been set. `max_new_tokens` will take precedence. Please refer to the documentation for more information. (https://huggingface.co/docs/transformers/main/en/main_classes/text_generation)\n",
      "Both `max_new_tokens` (=256) and `max_length`(=512) seem to have been set. `max_new_tokens` will take precedence. Please refer to the documentation for more information. (https://huggingface.co/docs/transformers/main/en/main_classes/text_generation)\n",
      "Both `max_new_tokens` (=256) and `max_length`(=512) seem to have been set. `max_new_tokens` will take precedence. Please refer to the documentation for more information. (https://huggingface.co/docs/transformers/main/en/main_classes/text_generation)\n",
      "Both `max_new_tokens` (=256) and `max_length`(=512) seem to have been set. `max_new_tokens` will take precedence. Please refer to the documentation for more information. (https://huggingface.co/docs/transformers/main/en/main_classes/text_generation)\n",
      "Both `max_new_tokens` (=256) and `max_length`(=512) seem to have been set. `max_new_tokens` will take precedence. Please refer to the documentation for more information. (https://huggingface.co/docs/transformers/main/en/main_classes/text_generation)\n",
      "Both `max_new_tokens` (=256) and `max_length`(=512) seem to have been set. `max_new_tokens` will take precedence. Please refer to the documentation for more information. (https://huggingface.co/docs/transformers/main/en/main_classes/text_generation)\n",
      "Both `max_new_tokens` (=256) and `max_length`(=512) seem to have been set. `max_new_tokens` will take precedence. Please refer to the documentation for more information. (https://huggingface.co/docs/transformers/main/en/main_classes/text_generation)\n",
      "Both `max_new_tokens` (=256) and `max_length`(=512) seem to have been set. `max_new_tokens` will take precedence. Please refer to the documentation for more information. (https://huggingface.co/docs/transformers/main/en/main_classes/text_generation)\n",
      "Both `max_new_tokens` (=256) and `max_length`(=512) seem to have been set. `max_new_tokens` will take precedence. Please refer to the documentation for more information. (https://huggingface.co/docs/transformers/main/en/main_classes/text_generation)\n",
      "Both `max_new_tokens` (=256) and `max_length`(=512) seem to have been set. `max_new_tokens` will take precedence. Please refer to the documentation for more information. (https://huggingface.co/docs/transformers/main/en/main_classes/text_generation)\n",
      "Both `max_new_tokens` (=256) and `max_length`(=512) seem to have been set. `max_new_tokens` will take precedence. Please refer to the documentation for more information. (https://huggingface.co/docs/transformers/main/en/main_classes/text_generation)\n",
      "Both `max_new_tokens` (=256) and `max_length`(=512) seem to have been set. `max_new_tokens` will take precedence. Please refer to the documentation for more information. (https://huggingface.co/docs/transformers/main/en/main_classes/text_generation)\n"
     ]
    },
    {
     "name": "stdout",
     "output_type": "stream",
     "text": [
      "- Công việc kinh doanh thì rất khó khăn nên tôi quyết định chuyển sang nghề khác.\n",
      "- Tôi đang là sinh viên năm hai ở trường đại học khoa học tự nhiên , trong năm kế tiếp tôi sẽ chọn chuyên ngành về trí tuệ nhân tạo.\n",
      "- Tôi đang học AI ở trung tâm AI Việt Nam.\n",
      "- Nhưng sức huỷ diệt của cơn bão Mitch vẫn chưa thấm vào đâu so với thảm hoạ tại Bangladesh năm 1970.\n",
      "- Lần này anh Phương quyết xếp hàng mua bằng được 1 chiếc.\n",
      "- Một số chuyên gia tài chính ngân hàng của Việt Nam cũng chung quan điểm này.\n",
      "- Các số liệu cho thấy ngươi dân Việt Nam đang sống trong 1 cuôc sóng không được như mong đợi.\n",
      "- Niềm kinh tế thế giới đang đúng trươc nguyen co của mọt cuoc suy thoai.\n",
      "- Không phải tất cả nhưng gì chúng ta thấy đều là sự thật.\n",
      "- Chính phủ luôn cố gắng hết sức để nâng cao chất lượng nền giáo dục - cua nước nhà.\n",
      "- Nền kinh tế thế giới đang đứng trươc nguy cơ của một cuộc suy thoái.\n",
      "- Kinh tế Việt Nam đang đứng trước 1 thời kỳ đổi mới chưa từng có tiền lệ trong lịch sử.\n"
     ]
    }
   ],
   "source": [
    "# Example\n",
    "MAX_LENGTH = 512\n",
    "\n",
    "# Define the text samples\n",
    "texts = [\n",
    "    \"côn viec kin doanh thì rất kho khan nên toi quyết dinh chuyển sang nghề khac  \",\n",
    "    \"toi dang là sinh diên nam hai ở truong đạ hoc khoa jọc tự nhiên , trogn năm ke tiep toi sẽ chọn chuyen nganh về trí tue nhana tạo\",\n",
    "    \"Tôi  đang học AI ở trun tam AI viet nam  \",\n",
    "    \"Nhưng sức huỷ divt của cơn bão mitch vẫn chưa thấm vào đâu lsovớithảm hoạ tại Bangladesh ăm 1970 \",\n",
    "    \"Lần này anh Phươngqyết xếp hàng mua bằng được 1 chiếc\",\n",
    "    \"một số chuyen gia tài chính ngâSn hànG của Việt Nam cũng chung quan điểmnày\",\n",
    "    \"Cac so liệu cho thay ngươi dân viet nam đang sống trong 1 cuôc sóng không duojc nhu mong đọi\",\n",
    "    \"Nefn kinh té thé giới đang đúng trươc nguyen co của mọt cuoc suy thoai\",\n",
    "    \"Khong phai tất ca nhưng gi chung ta thấy dideu là sụ that\",\n",
    "    \"chinh phủ luôn cố găng het suc để naggna cao chat luong nền giáo duc =cua nuoc nhà\",\n",
    "    \"nèn kinh te thé giới đang đứng trươc nguy co của mọt cuoc suy thoai\",\n",
    "    \"kinh tế viet nam dang dứng truoc 1 thoi ky đổi mơi chưa tung có tienf lệ trong lịch sử\"\n",
    "]\n",
    "\n",
    "# Batch prediction\n",
    "predictions = corrector(texts, max_length=MAX_LENGTH)\n",
    "\n",
    "# Print predictions\n",
    "for text, pred in zip(texts, predictions):\n",
    "    print(\"- \" + pred['generated_text'])\n"
   ]
  }
 ],
 "metadata": {
  "kernelspec": {
   "display_name": "tts",
   "language": "python",
   "name": "python3"
  },
  "language_info": {
   "codemirror_mode": {
    "name": "ipython",
    "version": 3
   },
   "file_extension": ".py",
   "mimetype": "text/x-python",
   "name": "python",
   "nbconvert_exporter": "python",
   "pygments_lexer": "ipython3",
   "version": "3.11.13"
  }
 },
 "nbformat": 4,
 "nbformat_minor": 5
}
