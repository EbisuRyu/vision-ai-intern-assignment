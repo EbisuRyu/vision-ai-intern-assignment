{
 "cells": [
  {
   "cell_type": "code",
   "execution_count": 1,
   "id": "aee4cf8f",
   "metadata": {},
   "outputs": [
    {
     "name": "stdout",
     "output_type": "stream",
     "text": [
      "d:\\intern-ai-assignment\\image_classification\\backend\n"
     ]
    }
   ],
   "source": [
    "%cd .."
   ]
  },
  {
   "cell_type": "code",
   "execution_count": 2,
   "id": "ed62f159",
   "metadata": {},
   "outputs": [
    {
     "name": "stderr",
     "output_type": "stream",
     "text": [
      "d:\\intern-ai-assignment\\.venv\\Lib\\site-packages\\tqdm\\auto.py:21: TqdmWarning: IProgress not found. Please update jupyter and ipywidgets. See https://ipywidgets.readthedocs.io/en/stable/user_install.html\n",
      "  from .autonotebook import tqdm as notebook_tqdm\n"
     ]
    }
   ],
   "source": [
    "from transformers import AutoImageProcessor\n",
    "\n",
    "from src.evaluate import evaluate\n",
    "from src.utils import load_model\n",
    "from src.dataset import load_dataloader"
   ]
  },
  {
   "cell_type": "code",
   "execution_count": 3,
   "id": "fcc21ea7",
   "metadata": {},
   "outputs": [
    {
     "name": "stdout",
     "output_type": "stream",
     "text": [
      "✅ Model loaded successfully from ./models/best_model.pth\n"
     ]
    },
    {
     "name": "stderr",
     "output_type": "stream",
     "text": [
      "Evaluating: 100%|██████████| 79/79 [10:10<00:00,  7.73s/batch]"
     ]
    },
    {
     "name": "stdout",
     "output_type": "stream",
     "text": [
      "\n",
      "📊 Classification Report:\n",
      "              precision    recall  f1-score   support\n",
      "\n",
      "         cat     0.9779    0.9904    0.9841      1250\n",
      "         dog     0.9903    0.9776    0.9839      1250\n",
      "\n",
      "    accuracy                         0.9840      2500\n",
      "   macro avg     0.9841    0.9840    0.9840      2500\n",
      "weighted avg     0.9841    0.9840    0.9840      2500\n",
      "\n"
     ]
    },
    {
     "name": "stderr",
     "output_type": "stream",
     "text": [
      "\n"
     ]
    }
   ],
   "source": [
    "model_name = \"google/vit-base-patch16-224-in21k\"\n",
    "processor = AutoImageProcessor.from_pretrained(model_name)\n",
    "\n",
    "model, optimizer, history = load_model(\n",
    "    checkpoint_path=\"./models/best_model.pth\",\n",
    "    optimizer=None,\n",
    "    model_kwargs=None,\n",
    "    device=\"cpu\"\n",
    ")\n",
    "\n",
    "train_dataloader, val_dataloader = load_dataloader(\n",
    "    root_dir=\"./data/train\",\n",
    "    processor=processor,\n",
    "    batch_size=32,\n",
    "    train_ratio=0.9,\n",
    "    seed=42,\n",
    "    num_workers=0\n",
    ")\n",
    "\n",
    "evaluate(\n",
    "    model=model,\n",
    "    dataloader=val_dataloader,\n",
    "    class_names=[\"cat\", \"dog\"],\n",
    "    device=\"cpu\",\n",
    ")"
   ]
  }
 ],
 "metadata": {
  "kernelspec": {
   "display_name": ".venv",
   "language": "python",
   "name": "python3"
  },
  "language_info": {
   "codemirror_mode": {
    "name": "ipython",
    "version": 3
   },
   "file_extension": ".py",
   "mimetype": "text/x-python",
   "name": "python",
   "nbconvert_exporter": "python",
   "pygments_lexer": "ipython3",
   "version": "3.11.7"
  }
 },
 "nbformat": 4,
 "nbformat_minor": 5
}
