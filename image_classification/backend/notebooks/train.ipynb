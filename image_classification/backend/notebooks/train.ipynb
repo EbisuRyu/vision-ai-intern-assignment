{
 "cells": [
  {
   "cell_type": "code",
   "execution_count": null,
   "id": "1145bfe4",
   "metadata": {},
   "outputs": [],
   "source": [
    "%cd .."
   ]
  },
  {
   "cell_type": "code",
   "execution_count": null,
   "id": "946b5260",
   "metadata": {},
   "outputs": [],
   "source": [
    "import torch\n",
    "import torch.nn as nn\n",
    "from torch.optim import Adam\n",
    "\n",
    "from src.utils import save_model\n",
    "from src.train import train_model\n",
    "from src.dataset import load_dataloader\n",
    "from src.model import load_processor_and_model"
   ]
  },
  {
   "cell_type": "code",
   "execution_count": null,
   "id": "f73e19ef",
   "metadata": {},
   "outputs": [],
   "source": [
    "device = \"cuda\" if torch.cuda.is_available() else \"cpu\"\n",
    "processor, model = load_processor_and_model()\n",
    "optimizer = Adam(model.parameters(), lr=1e-4, weight_decay=0.0)\n",
    "criterion = nn.CrossEntropyLoss()"
   ]
  },
  {
   "cell_type": "code",
   "execution_count": null,
   "id": "3b6b4d22",
   "metadata": {},
   "outputs": [],
   "source": [
    "train_dataloader, val_dataloader = load_dataloader(\n",
    "    root_dir=\"./data/train\",\n",
    "    processor=processor,\n",
    "    batch_size=32,\n",
    "    train_ratio=0.9,\n",
    "    seed=42,\n",
    "    num_workers=0\n",
    ")\n",
    "\n",
    "model, history = train_model(\n",
    "    model=model,\n",
    "    optimizer=optimizer,\n",
    "    criterion=criterion,\n",
    "    train_dataloader=train_dataloader,\n",
    "    val_dataloader=val_dataloader,\n",
    "    num_epochs=10,\n",
    "    device=device,\n",
    "    min_loss_threshold=0.01,\n",
    "    log_file=\"./logs/training.log\"\n",
    ")"
   ]
  },
  {
   "cell_type": "code",
   "execution_count": null,
   "id": "a9b4d286",
   "metadata": {},
   "outputs": [],
   "source": [
    "save_model(\n",
    "    model=model,\n",
    "    optimizer=None,\n",
    "    history=history,\n",
    "    path=\"./models/best_model.pth\"\n",
    ")"
   ]
  }
 ],
 "metadata": {
  "language_info": {
   "name": "python"
  }
 },
 "nbformat": 4,
 "nbformat_minor": 5
}
