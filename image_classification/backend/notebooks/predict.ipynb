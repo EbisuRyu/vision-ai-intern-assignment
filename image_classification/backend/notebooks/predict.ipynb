{
 "cells": [
  {
   "cell_type": "code",
   "execution_count": 1,
   "id": "2dd8ac95",
   "metadata": {},
   "outputs": [
    {
     "name": "stdout",
     "output_type": "stream",
     "text": [
      "d:\\intern-ai-assignment\\image_classification\n"
     ]
    }
   ],
   "source": [
    "%cd .."
   ]
  },
  {
   "cell_type": "code",
   "execution_count": null,
   "id": "8a50d453",
   "metadata": {},
   "outputs": [],
   "source": [
    "from transformers import AutoImageProcessor\n",
    "\n",
    "from src.predict import predict\n",
    "from src.utils import load_model"
   ]
  },
  {
   "cell_type": "code",
   "execution_count": null,
   "id": "166ddc41",
   "metadata": {},
   "outputs": [],
   "source": [
    "model_name = \"google/vit-base-patch16-224-in21k\"\n",
    "processor = AutoImageProcessor.from_pretrained(model_name)\n",
    "model, optimizer, history = load_model(\n",
    "    checkpoint_path=\"./models/best_model.pth\",\n",
    "    optimizer=None,\n",
    "    model_kwargs=None,\n",
    "    device=\"cpu\"\n",
    ")"
   ]
  },
  {
   "cell_type": "code",
   "execution_count": null,
   "id": "1ee64ff8",
   "metadata": {},
   "outputs": [
    {
     "name": "stderr",
     "output_type": "stream",
     "text": [
      "c:\\Users\\LONG\\anaconda3\\Lib\\site-packages\\huggingface_hub\\file_download.py:795: FutureWarning: `resume_download` is deprecated and will be removed in version 1.0.0. Downloads always resume when possible. If you want to force a new download, use `force_download=True`.\n",
      "  warnings.warn(\n"
     ]
    },
    {
     "name": "stdout",
     "output_type": "stream",
     "text": [
      "✅ Model loaded successfully from ./models/best_model.pth\n"
     ]
    }
   ],
   "source": [
    "predictions = predict(\n",
    "    model=model,\n",
    "    processor=processor,\n",
    "    image_paths=[\"./data/test/1.jpg\", \"./data/test/2.jpg\", \"./data/test/722.jpg\"],\n",
    "    device=\"cpu\"\n",
    ")    "
   ]
  },
  {
   "cell_type": "code",
   "execution_count": null,
   "id": "9e6265e1",
   "metadata": {},
   "outputs": [
    {
     "data": {
      "text/plain": [
       "[('./data/test/1.jpg', 'dog', 0.9998611211776733),\n",
       " ('./data/test/2.jpg', 'dog', 0.9997833371162415),\n",
       " ('./data/test/722.jpg', 'cat', 0.9999270439147949)]"
      ]
     },
     "execution_count": 5,
     "metadata": {},
     "output_type": "execute_result"
    }
   ],
   "source": [
    "predictions"
   ]
  }
 ],
 "metadata": {
  "kernelspec": {
   "display_name": "base",
   "language": "python",
   "name": "python3"
  },
  "language_info": {
   "codemirror_mode": {
    "name": "ipython",
    "version": 3
   },
   "file_extension": ".py",
   "mimetype": "text/x-python",
   "name": "python",
   "nbconvert_exporter": "python",
   "pygments_lexer": "ipython3",
   "version": "3.11.7"
  }
 },
 "nbformat": 4,
 "nbformat_minor": 5
}
